{
 "cells": [
  {
   "cell_type": "code",
   "execution_count": null,
   "metadata": {},
   "outputs": [
    {
     "name": "stdout",
     "output_type": "stream",
     "text": [
      "CPU times: user 15 µs, sys: 1e+03 ns, total: 16 µs\n",
      "Wall time: 19.1 µs\n"
     ]
    }
   ],
   "source": [
    "\n",
    "from PIL import Image, ImageDraw\n",
    "import cStringIO\n",
    "import urllib2\n",
    "from multiprocessing import Pool, TimeoutError\n",
    "import time\n",
    "import csv\n",
    "\n",
    "\n",
    "\"\"\" Need to Implement output --> url;color;color;color \"\"\"\n",
    "\n",
    "# SET URLS\n",
    "URLs = []\n",
    "with open('data/urls.txt', 'r') as f:\n",
    "    # read data as lines of text\n",
    "    URLs = [x.splitlines()[0] for x in list(f.readlines())]\n",
    "\n",
    "# COLOR GRABBER - https://gist.github.com/zollinger/1722663 \n",
    "def getColors(infile, numcolors=3, resize=150):\n",
    "\n",
    "    image = Image.open(infile)                                              # Using PIL open image\n",
    "    image = image.resize((resize, resize))                                  # resize image to reduce pixel set\n",
    "    result = image.convert('P', palette=Image.ADAPTIVE, colors=numcolors)   # Convert to image pallete to get dominant colors\n",
    "    result.putalpha(0)                                                      # Set alpha to zero for RGB\n",
    "    colors = result.getcolors(resize*resize)                                # get colors in RGB of the resized image\n",
    "    colors = [y[:-1] for y in [x[-1] for x in colors]]                      # take RGB values\n",
    "\n",
    "    return colors\n",
    "\n",
    "def readImage(url):\n",
    "    fl = None\n",
    "    try:\n",
    "        fl = cStringIO.StringIO(urllib2.urlopen(url).read())                # create image data from URL string\n",
    "    except:\n",
    "        print \"Could not Download Image from Url\"\n",
    "\n",
    "    return (url, getColors(fl))                                             # Return the formatted data string\n",
    "\n",
    "%time\n",
    "if __name__ == '__main__':\n",
    "    try:\n",
    "        pool = Pool(processes=16)                                           # Pool processes in map multithread, as no specific order of operations is desired\n",
    "        data = pool.map(readImage, URLs)\n",
    "    except TimeoutError:\n",
    "        print \"Error, image downloading Timed Out\"\n",
    "\n",
    "    with open(\"data/output.csv\", 'wb') as csvFile:                          # Create CSV file\n",
    "        lineWriter = csv.writer(csvFile)\n",
    "        for line in data:\n",
    "            lineWriter.writerow((line[0], line[1][0], line[1][1], line[1][2]))\n"
   ]
  },
  {
   "cell_type": "code",
   "execution_count": null,
   "metadata": {
    "collapsed": true
   },
   "outputs": [],
   "source": []
  }
 ],
 "metadata": {
  "kernelspec": {
   "display_name": "Python 2",
   "language": "python",
   "name": "python2"
  },
  "language_info": {
   "codemirror_mode": {
    "name": "ipython",
    "version": 2
   },
   "file_extension": ".py",
   "mimetype": "text/x-python",
   "name": "python",
   "nbconvert_exporter": "python",
   "pygments_lexer": "ipython2",
   "version": "2.7.13"
  }
 },
 "nbformat": 4,
 "nbformat_minor": 2
}
