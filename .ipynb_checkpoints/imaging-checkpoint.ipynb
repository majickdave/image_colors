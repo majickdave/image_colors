{
 "cells": [
  {
   "cell_type": "code",
   "execution_count": 2,
   "metadata": {},
   "outputs": [],
   "source": [
    "from scipy import misc\n",
    "import urllib2\n",
    "import cStringIO\n",
    "\n",
    "images = []\n",
    "with open('data/urls.txt', 'r') as f:\n",
    "    # read data as lines of text\n",
    "    URLs = [x.splitlines()[0] for x in list(f.readlines())]\n",
    "    \n",
    "def pixelGrabber(url):    \n",
    "    fl = cStringIO.StringIO(urllib2.urlopen(url).read())\n",
    "    im = misc.imread(fl)\n",
    "#     pixels = list(im)\n",
    "    images.append(im)\n"
   ]
  },
  {
   "cell_type": "code",
   "execution_count": 3,
   "metadata": {},
   "outputs": [
    {
     "name": "stdout",
     "output_type": "stream",
     "text": [
      "[0, 1, 4, 9, 16, 25, 36, 49, 64, 81]\n",
      "0\n",
      "1\n",
      "4\n",
      "9\n",
      "16\n",
      "25\n",
      "36\n",
      "49\n",
      "64\n",
      "81\n",
      "400\n",
      "16661\n",
      "[16662, 16663, 16660, 16661]\n",
      "We lacked patience and got a multiprocessing.TimeoutError\n"
     ]
    }
   ],
   "source": [
    "from multiprocessing import Pool, TimeoutError\n",
    "import time\n",
    "import os\n",
    "\n",
    "if __name__ == '__main__':\n",
    "    pool = Pool(processes=4)              # start 4 worker processes\n",
    "\n",
    "    # print \"[0, 1, 4,..., 81]\"\n",
    "    with open(\"data/output.csv\")\n",
    "    print pool.map(pixelGrabber, URLs)\n",
    "\n",
    "    # print same numbers in arbitrary order\n",
    "    for i in pool.imap_unordered(f, range(10)):\n",
    "        print i\n",
    "\n",
    "    # evaluate \"f(20)\" asynchronously\n",
    "    res = pool.apply_async(f, (20,))      # runs in *only* one process\n",
    "    print res.get(timeout=1)              # prints \"400\"\n",
    "\n",
    "    # evaluate \"os.getpid()\" asynchronously\n",
    "    res = pool.apply_async(os.getpid, ()) # runs in *only* one process\n",
    "    print res.get(timeout=1)              # prints the PID of that process\n",
    "\n",
    "    # launching multiple evaluations asynchronously *may* use more processes\n",
    "    multiple_results = [pool.apply_async(os.getpid, ()) for i in range(4)]\n",
    "    print [res.get(timeout=1) for res in multiple_results]\n",
    "\n",
    "    # make a single worker sleep for 10 secs\n",
    "    res = pool.apply_async(time.sleep, (10,))\n",
    "    try:\n",
    "        print res.get(timeout=1)\n",
    "    except TimeoutError:\n",
    "        print \"We lacked patience and got a multiprocessing.TimeoutError\"\n"
   ]
  },
  {
   "cell_type": "code",
   "execution_count": null,
   "metadata": {
    "collapsed": true
   },
   "outputs": [],
   "source": []
  },
  {
   "cell_type": "code",
   "execution_count": null,
   "metadata": {
    "collapsed": true
   },
   "outputs": [],
   "source": [
    "from multiprocessing import Pool\n",
    "\n",
    "if __name__ == '__main__':\n",
    "    p = Pool(5)\n",
    "    print(p.map(pixelGrabber, URLs))"
   ]
  }
 ],
 "metadata": {
  "kernelspec": {
   "display_name": "Python (py27)",
   "language": "python",
   "name": "py27"
  },
  "language_info": {
   "codemirror_mode": {
    "name": "ipython",
    "version": 2
   },
   "file_extension": ".py",
   "mimetype": "text/x-python",
   "name": "python",
   "nbconvert_exporter": "python",
   "pygments_lexer": "ipython2",
   "version": "2.7.13"
  }
 },
 "nbformat": 4,
 "nbformat_minor": 2
}
